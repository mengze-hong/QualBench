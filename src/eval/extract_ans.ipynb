{
 "cells": [
  {
   "cell_type": "code",
   "execution_count": 1,
   "id": "2f2a49b9-98d2-4476-9d9c-e182ec9bdb21",
   "metadata": {},
   "outputs": [],
   "source": [
    "import json\n",
    "import re"
   ]
  },
  {
   "cell_type": "code",
   "execution_count": 2,
   "id": "b9bcc56b-348f-4539-9525-83e37836d29a",
   "metadata": {},
   "outputs": [],
   "source": [
    "def build_prompt(q, q_type):\n",
    "    if q_type == \"单选题\":\n",
    "        return f'这是一道{q_type}，请给出你的答案（只需给出单个选项），并进行解析，给出你的理由。\\n' + \\\n",
    "                '题目：酸碱灭火器是一种内部装有65％的工业硫酸和碳酸氢钠的水溶液作灭火剂的灭火器，使用时，两种药液混合发生化学反应，产生二氧化碳压力气体，灭火剂在二氧化碳气体压力下喷出进行灭火。下列火灾中，适用酸碱灭火器扑救的是（）。\\nA．天然气火灾\\nB．金属钠火灾\\nC．配电柜火灾\\nD．纺织物火灾\\n' + \\\n",
    "                '答案：D\\n' + \\\n",
    "                '解析：酸碱灭火器是一种内部装有65％的工业硫酸和碳酸氢铀的水溶液作灭火剂的灭火器。使用时，两种药液混合发生化学反应，产生二氧化碳压力气体，灭火剂在二氧化碳气体压力下喷出进行灭火。该类灭火器适用于扑救A类物质的初起火灾，如木、竹、织物、纸张等燃烧的火灾。它不能用于扑救B类物质燃烧的火灾也不能用于扑救C类可燃气体D类轻金属火灾，同时也不能用于带电场合火灾的扑救。\\n\\n' + \\\n",
    "                f'题目：{q}\\n' + \\\n",
    "                '答案：'\n",
    "    elif q_type == \"多选题\":\n",
    "        return f'这是一道{q_type}，请给出你的答案（只需给出选项），并进行解析，给出你的理由。\\n' + \\\n",
    "                '题目：关于运行速度的说法，正确的有下列哪些选项？()\\nA．运行速度是路面平整、潮湿、自由流状态下，行驶速度累计分布曲线上对应于85%分位值的速度\\nB．公路设计应采用运行速度进行检验\\nC．相邻路段运行速度之差应小于20km/h\\nD．同一路段运行速度与设计速度之差应小于20km/h\\n' + \\\n",
    "                '答案：ABC\\n' + \\\n",
    "                '解析：A项，运行速度是路面平整、潮湿、自由流状态下，行驶速度累计分布曲线上对应于85%分位值的速度。运行速度考虑了公路上绝大多数驾驶员的交通心理需求，是随着公路路线不断变化的。BCD三项，根据《公路工程技术标准》(JTGB01—2014)第3.5.2条规定，公路设计应采用运行速度进行检验，相邻路段运行速度之差应小于20km/h，同一路段运行速度与设计速度之差宜小于20km/h。《公路项目安全性评价规范》(JTGB05—2015)中有关于运行速度的计算模型。\\n\\n' + \\\n",
    "                f'题目：{q}\\n' + \\\n",
    "                '答案：'\n",
    "    elif q_type == \"判断题\":\n",
    "        return f'这是一道{q_type}，请给出你的答案（只需给出“正确”或“错误”），并进行解析，给出你的理由。\\n' + \\\n",
    "                '题目：基本建设投资和更新改造投资的综合范围为总投资50万元以上（含50万元）的项目。\\n' + \\\n",
    "                '答案：正确\\n' + \\\n",
    "                '解析：基本建设投资指企业、事业、行政单位以扩大生产能力或工程效益为主要目的的新建、扩建工程及有关工作。其综合范围为总投资50万元以上（含50万元）的基本建设项目。更新改造投资指企业、事业单位对原有设施进行固定资产更新和技术改造，以及相应配套的工程和有关工作（不包括大修理和维护工程）。其综合范围为总投资50万元以上（含50万元）的更新改造项目。\\n\\n' + \\\n",
    "                f'题目：{q}\\n' + \\\n",
    "                '答案：'\n",
    "    raise Exception(f\"{q_type} error\")"
   ]
  },
  {
   "cell_type": "code",
   "execution_count": 3,
   "id": "781afa6f-2f8a-4002-9e5c-ef340a2b58f6",
   "metadata": {},
   "outputs": [],
   "source": [
    "tiku_files = { \"safety_roduction\": [\n",
    "                \"cleaned_2023年中级注册安全工程师《安全生产技术基础》题库\",\n",
    "                \"cleaned_建筑施工项目负责人B证模拟练习题\",\n",
    "                \"cleaned_陆上石油天然气开采安全管理人员复习题\",\n",
    "                \"cleaned_煤矿安全生产和管理能力\",\n",
    "                \"cleaned_天然气安全生产管理人员\",\n",
    "                \"cleaned_铁路安全试题\"\n",
    "            ],\n",
    "        \n",
    "        \"building_engineering\": [\n",
    "                \"cleaned_2020年12月全国二级建造师《水利水电工程管理与实务》真题精选及详解\",\n",
    "                \"cleaned_2022二建《管理》真题\",\n",
    "                \"cleaned_2023年二级造价工程师《造价管理》模拟试卷3\",\n",
    "                \"cleaned_2024年注册土木工程师（道路工程）《专业考试》题库【历年真题＋章节题库＋模拟试题】(1)\",\n",
    "                \"cleaned_2024年注册土木工程师（岩土）《专业基础考试》题库【历年真题（部分视频讲解）＋章节题库】(1)\",\n",
    "                \"cleaned_2024年咨询工程师（投资）《宏观经济政策与发展规划》模拟试题及详解（二）\",\n",
    "                \"cleaned_消防救援题库\",\n",
    "                \"cleaned_消防设施操作员（初中高级）题库\",\n",
    "                \"cleaned_消防职业技能鉴定理论\"\n",
    "            ],\n",
    "        \n",
    "        \"economics_financial\": [\n",
    "                \"cleaned_2022年中级经济师《工商》考前押题卷\",\n",
    "                \"cleaned_2022年中级经济师《人力》题库\",\n",
    "                \"cleaned_2023反假币\",\n",
    "                \"cleaned_2024年经济师《经济基础知识（中级）》考前模拟题及详解（二）\",\n",
    "                \"cleaned_2024年银行业专业人员职业资格考试《银行业法律法规与综合能力（初级）》机考题库【真题精选＋章节题库】\",\n",
    "                \"cleaned_保险\",\n",
    "                \"cleaned_金融学题库\",\n",
    "                \"cleaned_银行从业法律法规与综合能力题库\",\n",
    "                \"cleaned_银行业法律法规与综合能力\",\n",
    "                \"cleaned_中级经济师金融知识\"\n",
    "            ]\n",
    "       }"
   ]
  },
  {
   "cell_type": "code",
   "execution_count": null,
   "id": "6096e37c-fc4b-4ecd-819d-6b6e299925a4",
   "metadata": {},
   "outputs": [],
   "source": [
    "file_path = \"../../data/QualBench.json\"\n",
    "\n",
    "with open(file_path, \"r\", encoding=\"utf8\") as f:\n",
    "    datas = json.load(f)\n"
   ]
  },
  {
   "cell_type": "code",
   "execution_count": 7,
   "id": "619eca60",
   "metadata": {},
   "outputs": [
    {
     "data": {
      "text/plain": [
       "{'idx': 128,\n",
       " 'question_type': '单选题',\n",
       " 'domain': '安全生产',\n",
       " 'question': '根据《特种设备安全监察条例》，大型游乐设施是指用于经营目的，承载乘客游乐的设施，其范围规定为运行高度距地面高于或者等于2m，或者设计最大运行线速度大于或等于（）的载人大型游乐设施。\\nA．1m/s\\nB．3m/s\\nC．4m/s\\nD．2m/s',\n",
       " 'answer': 'D',\n",
       " 'explanation': '大型游乐设施，是指用于经营目的，承载乘客游乐的设施，其范围规定为设计最大运行线速度大于或者等于2m/s，或者运行高度距地面高于或者等于2m的载人大型游乐设施。用于体育运动、文艺演出和非经营活动的大型游乐设施除外。'}"
      ]
     },
     "execution_count": 7,
     "metadata": {},
     "output_type": "execute_result"
    }
   ],
   "source": [
    "datas[128]"
   ]
  },
  {
   "cell_type": "code",
   "execution_count": 8,
   "id": "21cc5f9c-e1d2-49b6-8df3-72416ae382a9",
   "metadata": {},
   "outputs": [
    {
     "name": "stdout",
     "output_type": "stream",
     "text": [
      "0\n"
     ]
    }
   ],
   "source": [
    "# models = [\"chatglm3-6b-chat\",\n",
    "#          \"baichuan2-7b-chat\",\n",
    "#          \"qwen2.5-7b-instruct\",\n",
    "#          \"mistral-7b-instruct-v0.3\",\n",
    "#          \"deepseek-v2-lite-chat\"]\n",
    "# models = [\"FinLLM_lora_computing\",\n",
    "#           \"FinLLM_lora_consulting\",\n",
    "#           \"FinLLM_lora_retrieval\", \"FinLLM_lora_task\"]\n",
    "\n",
    "# models = [\"Mistral_prompt_demo\"]\n",
    "# # models = [\"qwen14b_shuffled\"]\n",
    "# # models = [\"qwen7b_prompt\", \"qwen14b_prompt_demo\"]\n",
    "\n",
    "models = [\"llama14b\"]\n",
    "opts = \"ABCDEDFHIJKLMN\"\n",
    "res = {}\n",
    "error = 0\n",
    "for m in models:\n",
    "    with open(f\"res_{m}.jsonl\", \"r\", encoding=\"utf8\") as f:\n",
    "        for line in f:\n",
    "            d = json.loads(line)\n",
    "            try:\n",
    "                resp = d[\"resp\"].split(\"题目：\")[2].split(\"答案：\")[1]\n",
    "                tmp = resp.split(\"解析：\")\n",
    "            except:\n",
    "                continue\n",
    "            ans = \"\"\n",
    "\n",
    "            if d[\"question_type\"] == \"判断题\":\n",
    "                if \"正确\" in tmp[0]:\n",
    "                    ans = \"正确\"\n",
    "                else:\n",
    "                    ans = \"错误\"\n",
    "            else:\n",
    "                for s in tmp[0].strip().upper():\n",
    "                    if s in opts:\n",
    "                        ans += s\n",
    "            if ans == \"\":\n",
    "                # ans = extract_answer_with_gpt4o(resp)\n",
    "                # print(ans)\n",
    "                # print(d)\n",
    "                error += 1\n",
    "            try:\n",
    "                datas[d[\"idx\"]][m] = {}\n",
    "                datas[d[\"idx\"]][m][\"answer\"] = ans\n",
    "                datas[d[\"idx\"]][m][\"explan\"] = tmp[1].strip() if len(tmp) > 1 else \"\"\n",
    "            except Exception as e:\n",
    "                # print(e)\n",
    "                pass\n",
    "            tmp = []\n",
    "\n",
    "            # if error > 5:\n",
    "            #     break\n",
    "    print(error)\n"
   ]
  },
  {
   "cell_type": "code",
   "execution_count": 9,
   "id": "cd4d2aea",
   "metadata": {},
   "outputs": [
    {
     "data": {
      "text/plain": [
       "{'idx': 0,\n",
       " 'question_type': '单选题',\n",
       " 'domain': '安全生产',\n",
       " 'question': '机械设备运动部分是最危险的部位，尤其是那些操作人员易接触的零部件，下列针对不同机械设备转动部位的危险所采取的安全防护措施中，正确的是（）。\\nA．针对轧钢机，在验式机轴处采用锥形防护罩防护\\nB．针对辊式输送机，在驱动轴上游安装防护罩防护\\nC．针对啮合齿轮，齿轮转动机构采用半封闭防护\\nD．针对手持式砂轮机，在磨削区采用局部防护',\n",
       " 'answer': 'A',\n",
       " 'explanation': 'B项，辊式输送机应该在驱动轴的下游安装防护罩。',\n",
       " 'llama14b': {'answer': 'C',\n",
       "  'explan': '机械设备运动部分是最危险的部位，尤其是那些操作人员易接触的零部件。针对不同机械设备转动部位的危险所采取的安全防护措��'}}"
      ]
     },
     "execution_count": 9,
     "metadata": {},
     "output_type": "execute_result"
    }
   ],
   "source": [
    "datas[0]"
   ]
  },
  {
   "cell_type": "code",
   "execution_count": 10,
   "id": "b4c80540",
   "metadata": {},
   "outputs": [
    {
     "name": "stdout",
     "output_type": "stream",
     "text": [
      "{'idx': 0, 'question_type': '单选题', 'domain': '安全生产', 'question': '机械设备运动部分是最危险的部位，尤其是那些操作人员易接触的零部件，下列针对不同机械设备转动部位的危险所采取的安全防护措施中，正确的是（）。\\nA．针对轧钢机，在验式机轴处采用锥形防护罩防护\\nB．针对辊式输送机，在驱动轴上游安装防护罩防护\\nC．针对啮合齿轮，齿轮转动机构采用半封闭防护\\nD．针对手持式砂轮机，在磨削区采用局部防护', 'answer': 'A', 'explanation': 'B项，辊式输送机应该在驱动轴的下游安装防护罩。', 'resp': '这是一道单选题，请给出你的答案（只需给出单个选项），并进行解析，给出你的理由。\\n题目：酸碱灭火器是一种内部装有65％的工业硫酸和碳酸氢钠的水溶液作灭火剂的灭火器，使用时，两种药液混合发生化学反应，产生二氧化碳压力气体，灭火剂在二氧化碳气体压力下喷出进行灭火。下列火灾中，适用酸碱灭火器扑救的是（）。\\nA．天然气火灾\\nB．金属钠火灾\\nC．配电柜火灾\\nD．纺织物火灾\\n答案：D\\n解析：酸碱灭火器是一种内部装有65％的工业硫酸和碳酸氢铀的水溶液作灭火剂的灭火器。使用时，两种药液混合发生化学反应，产生二氧化碳压力气体，灭火剂在二氧化碳气体压力下喷出进行灭火。该类灭火器适用于扑救A类物质的初起火灾，如木、竹、织物、纸张等燃烧的火灾。它不能用于扑救B类物质燃烧的火灾也不能用于扑救C类可燃气体D类轻金属火灾，同时也不能用于带电场合火灾的扑救。\\n\\n题目：机械设备运动部分是最危险的部位，尤其是那些操作人员易接触的零部件，下列针对不同机械设备转动部位的危险所采取的安全防护措施中，正确的是（）。\\nA．针对轧钢机，在验式机轴处采用锥形防护罩防护\\nB．针对辊式输送机，在驱动轴上游安装防护罩防护\\nC．针对啮合齿轮，齿轮转动机构采用半封闭防护\\nD．针对手持式砂轮机，在磨削区采用局部防护\\n答案：C\\n解析：机械设备运动部分是最危险的部位，尤其是那些操作人员易接触的零部件。针对不同机械设备转动部位的危险所采取的安全防护措��'}\n"
     ]
    }
   ],
   "source": [
    "with open(f\"res_{m}.jsonl\", \"r\", encoding=\"utf8\") as f:\n",
    "    for line in f:\n",
    "        d = json.loads(line)\n",
    "        print(d)\n",
    "        break"
   ]
  },
  {
   "cell_type": "code",
   "execution_count": 11,
   "id": "92aa930a",
   "metadata": {},
   "outputs": [
    {
     "data": {
      "text/plain": [
       "{'idx': 50,\n",
       " 'question_type': '单选题',\n",
       " 'domain': '安全生产',\n",
       " 'question': '人机系统是由相互作用、相互依存的人和机器两个子系统构成，能完成特定目标的一个整体系统。在自动化系统中，人机功能分配的原则是（）。\\nA．以机为主\\nB．以人为主\\nC．人机同等\\nD．人机共体',\n",
       " 'answer': 'A',\n",
       " 'explanation': '在自动化系统中，则以机为主体，机器的正常运转完全依赖于闭环系统的机器自身的控制，人只是一个监视者和管理者，监视自动化机器的工作。只有在自动控制系统出现差错时，人才进行干预，采取相应的措施。该系统的安全性主要取决于机器的本质安全性、机器的冗余系统是否失灵以及人处于低负荷时的应急反应变差等情形。',\n",
       " 'llama14b': {'answer': 'D',\n",
       "  'explan': '人机系统是由相互作用、相互依存的人和机器两个子系统构成，能完成特定目标的一个整体系统。在自动化系统中，人机功能分配的原则是人机共体，即人和机器在一个整体中，相��'}}"
      ]
     },
     "execution_count": 11,
     "metadata": {},
     "output_type": "execute_result"
    }
   ],
   "source": [
    "datas[50]"
   ]
  },
  {
   "cell_type": "code",
   "execution_count": 12,
   "id": "6cb52156",
   "metadata": {},
   "outputs": [
    {
     "name": "stdout",
     "output_type": "stream",
     "text": [
      "17298\n"
     ]
    }
   ],
   "source": [
    "filtered_data = datas\n",
    "cleaned = []\n",
    "already = set()\n",
    "for d in filtered_data:\n",
    "    if d['question'] in already:\n",
    "        continue\n",
    "    # Use the new keys according to the new structure\n",
    "  #  d['input'] = build_prompt(d[\"question\"], d[\"question_type\"])\n",
    "    if d[\"question_type\"] == \"判断题\" and d[\"answer\"] in {\"正确\", \"错误\"}:\n",
    "        cleaned.append(d)\n",
    "        already.add(d['question'])\n",
    "    if d[\"question_type\"] in {\"单选题\", \"多选题\"}:\n",
    "        right = True\n",
    "        for s in d[\"answer\"]:\n",
    "            if not s in opts:\n",
    "                right = False\n",
    "                break\n",
    "        if right:\n",
    "            cleaned.append(d)\n",
    "            already.add(d['question'])\n",
    "print(len(cleaned))"
   ]
  },
  {
   "cell_type": "code",
   "execution_count": 13,
   "id": "acab2d2a",
   "metadata": {},
   "outputs": [],
   "source": [
    "file_path = \"./shuffled_dataset.jsonl\"\n",
    "\n",
    "shuffled_data = []\n",
    "with open(file_path, 'r', encoding='utf-8') as f:\n",
    "    for line_number, line in enumerate(f, 1):\n",
    "        line = line.strip()\n",
    "        if not line:\n",
    "            print(f\"Skipping empty line at line {line_number}\")\n",
    "            continue\n",
    "        try:\n",
    "            shuffled_data.append(json.loads(line))\n",
    "        except json.JSONDecodeError as e:\n",
    "            print(f\"Error parsing JSON at line {line_number}: {str(e)}\")\n",
    "            continue\n"
   ]
  },
  {
   "cell_type": "code",
   "execution_count": 14,
   "id": "d595cb24",
   "metadata": {},
   "outputs": [
    {
     "data": {
      "text/plain": [
       "{'question': '造成机房电气火灾的主要因素有超负荷、静电、雷击、人为操作失误等，遇到机房电气火灾，应优先选用（）。\\nA．酸碱灭火器\\nB．水基灭火器\\nC．二氧化碳灭火器\\nD．泡沫灭火器',\n",
       " 'answer': 'C',\n",
       " 'explan': 'A项，不能用水扑灭的火灾主要包括：电气火灾未切断电源前不能用水扑救，因为水是良导体，容易造成触电。B项，泡沫灭火器适合扑救脂类、石油产品等B类火灾以及木材等A类物质的初起火灾，但不能扑救B类水溶性火灾，也不能扑救带电设备及C类和D类火灾。C项，二氧化碳灭火器，更适宜于扑救600V以下带电电器、贵重设备、图书档案、精密仪器仪表的初起火灾，以及一般可燃液体的火灾。D项，酸碱灭火器不能用于扑救B类物质燃烧的火灾，也不能用于扑救C类可燃气体或D类轻金属火灾，同时也不能用于带电场合火灾的扑救。',\n",
       " 'type': '单选题',\n",
       " 'idx': 94,\n",
       " 'domain': 'safety_roduction',\n",
       " 'sub_domain': '安全生产'}"
      ]
     },
     "execution_count": 14,
     "metadata": {},
     "output_type": "execute_result"
    }
   ],
   "source": [
    "shuffled_data[90]"
   ]
  },
  {
   "cell_type": "code",
   "execution_count": 15,
   "id": "00a251f7",
   "metadata": {},
   "outputs": [],
   "source": [
    "# # Filter data to only include entries whose 'idx' exists in shuffled_data\n",
    "# shuffled_idxs = set(item['idx'] for item in shuffled_data)\n",
    "# filtered_data = [item for item in datas if item.get('idx') in shuffled_idxs]\n",
    "# print(f\"Number of filtered items: {len(filtered_data)}\")"
   ]
  },
  {
   "cell_type": "code",
   "execution_count": 16,
   "id": "0dbe2fd5",
   "metadata": {},
   "outputs": [],
   "source": [
    "filtered_data = datas"
   ]
  },
  {
   "cell_type": "code",
   "execution_count": 17,
   "id": "bbe8cb71",
   "metadata": {},
   "outputs": [
    {
     "data": {
      "text/plain": [
       "{'idx': 50,\n",
       " 'question_type': '单选题',\n",
       " 'domain': '安全生产',\n",
       " 'question': '人机系统是由相互作用、相互依存的人和机器两个子系统构成，能完成特定目标的一个整体系统。在自动化系统中，人机功能分配的原则是（）。\\nA．以机为主\\nB．以人为主\\nC．人机同等\\nD．人机共体',\n",
       " 'answer': 'A',\n",
       " 'explanation': '在自动化系统中，则以机为主体，机器的正常运转完全依赖于闭环系统的机器自身的控制，人只是一个监视者和管理者，监视自动化机器的工作。只有在自动控制系统出现差错时，人才进行干预，采取相应的措施。该系统的安全性主要取决于机器的本质安全性、机器的冗余系统是否失灵以及人处于低负荷时的应急反应变差等情形。',\n",
       " 'llama14b': {'answer': 'D',\n",
       "  'explan': '人机系统是由相互作用、相互依存的人和机器两个子系统构成，能完成特定目标的一个整体系统。在自动化系统中，人机功能分配的原则是人机共体，即人和机器在一个整体中，相��'}}"
      ]
     },
     "execution_count": 17,
     "metadata": {},
     "output_type": "execute_result"
    }
   ],
   "source": [
    "filtered_data[50]"
   ]
  },
  {
   "cell_type": "code",
   "execution_count": 18,
   "id": "dd3da6f0",
   "metadata": {},
   "outputs": [],
   "source": [
    "# filtered_data = [item for item in datas if \"qwen14b_shuffled\" in item]\n",
    "# print(f\"Number of items with 'qwen14b_shuffled': {len(filtered_data)}\")"
   ]
  },
  {
   "cell_type": "code",
   "execution_count": 19,
   "id": "6b229c78",
   "metadata": {},
   "outputs": [],
   "source": [
    "# # Filter parsed_data to only keep items with domain type '金融'\n",
    "# filtered_data = [item for item in datas if item.get('domain') == '经济金融']\n",
    "# print(f\"Number of items with domain type '金融': {len(filtered_data)}\")"
   ]
  },
  {
   "cell_type": "code",
   "execution_count": 20,
   "id": "4fc50128",
   "metadata": {},
   "outputs": [
    {
     "name": "stdout",
     "output_type": "stream",
     "text": [
      "17298\n"
     ]
    }
   ],
   "source": [
    "cleaned = []\n",
    "already = set()\n",
    "for d in filtered_data:\n",
    "    if d['question'] in already:\n",
    "        continue\n",
    "    # Use the new keys according to the new structure\n",
    "    d['input'] = build_prompt(d[\"question\"], d[\"question_type\"])\n",
    "    if d[\"question_type\"] == \"判断题\" and d[\"answer\"] in {\"正确\", \"错误\"}:\n",
    "        cleaned.append(d)\n",
    "        already.add(d['question'])\n",
    "    if d[\"question_type\"] in {\"单选题\", \"多选题\"}:\n",
    "        right = True\n",
    "        for s in d[\"answer\"]:\n",
    "            if not s in opts:\n",
    "                right = False\n",
    "                break\n",
    "        if right:\n",
    "            cleaned.append(d)\n",
    "            already.add(d['question'])\n",
    "print(len(cleaned))"
   ]
  },
  {
   "cell_type": "code",
   "execution_count": 21,
   "id": "83f084f9",
   "metadata": {},
   "outputs": [
    {
     "data": {
      "text/plain": [
       "{'idx': 50,\n",
       " 'question_type': '单选题',\n",
       " 'domain': '安全生产',\n",
       " 'question': '人机系统是由相互作用、相互依存的人和机器两个子系统构成，能完成特定目标的一个整体系统。在自动化系统中，人机功能分配的原则是（）。\\nA．以机为主\\nB．以人为主\\nC．人机同等\\nD．人机共体',\n",
       " 'answer': 'A',\n",
       " 'explanation': '在自动化系统中，则以机为主体，机器的正常运转完全依赖于闭环系统的机器自身的控制，人只是一个监视者和管理者，监视自动化机器的工作。只有在自动控制系统出现差错时，人才进行干预，采取相应的措施。该系统的安全性主要取决于机器的本质安全性、机器的冗余系统是否失灵以及人处于低负荷时的应急反应变差等情形。',\n",
       " 'llama14b': {'answer': 'D',\n",
       "  'explan': '人机系统是由相互作用、相互依存的人和机器两个子系统构成，能完成特定目标的一个整体系统。在自动化系统中，人机功能分配的原则是人机共体，即人和机器在一个整体中，相��'},\n",
       " 'input': '这是一道单选题，请给出你的答案（只需给出单个选项），并进行解析，给出你的理由。\\n题目：酸碱灭火器是一种内部装有65％的工业硫酸和碳酸氢钠的水溶液作灭火剂的灭火器，使用时，两种药液混合发生化学反应，产生二氧化碳压力气体，灭火剂在二氧化碳气体压力下喷出进行灭火。下列火灾中，适用酸碱灭火器扑救的是（）。\\nA．天然气火灾\\nB．金属钠火灾\\nC．配电柜火灾\\nD．纺织物火灾\\n答案：D\\n解析：酸碱灭火器是一种内部装有65％的工业硫酸和碳酸氢铀的水溶液作灭火剂的灭火器。使用时，两种药液混合发生化学反应，产生二氧化碳压力气体，灭火剂在二氧化碳气体压力下喷出进行灭火。该类灭火器适用于扑救A类物质的初起火灾，如木、竹、织物、纸张等燃烧的火灾。它不能用于扑救B类物质燃烧的火灾也不能用于扑救C类可燃气体D类轻金属火灾，同时也不能用于带电场合火灾的扑救。\\n\\n题目：人机系统是由相互作用、相互依存的人和机器两个子系统构成，能完成特定目标的一个整体系统。在自动化系统中，人机功能分配的原则是（）。\\nA．以机为主\\nB．以人为主\\nC．人机同等\\nD．人机共体\\n答案：'}"
      ]
     },
     "execution_count": 21,
     "metadata": {},
     "output_type": "execute_result"
    }
   ],
   "source": [
    "cleaned[50]"
   ]
  },
  {
   "cell_type": "code",
   "execution_count": 22,
   "id": "615dc25e",
   "metadata": {},
   "outputs": [],
   "source": [
    "# true_label = [entry[\"answer\"] for entry in cleaned]\n",
    "# predicted_label = [entry[\"FinLLM\"][\"answer\"] for entry in cleaned]"
   ]
  },
  {
   "cell_type": "code",
   "execution_count": 23,
   "id": "21bf589f",
   "metadata": {},
   "outputs": [],
   "source": [
    "# for m in models:\n",
    "#     predicted_label = [entry[m][\"answer\"] for entry in cleaned]\n",
    "#     # You can now use predicted_label for further analysis per model"
   ]
  },
  {
   "cell_type": "code",
   "execution_count": 24,
   "id": "634f877d-7518-4a96-b310-e0417856b6e1",
   "metadata": {},
   "outputs": [
    {
     "name": "stdout",
     "output_type": "stream",
     "text": [
      "{'llama14b': 6513}\n",
      "llama14b acc:\t37.65%\n"
     ]
    }
   ],
   "source": [
    "scores = {m:0 for m in models}\n",
    "for r in cleaned:\n",
    "    try:\n",
    "        for m in models:\n",
    "            if r[m][\"answer\"] == r[\"answer\"]:\n",
    "                scores[m] += 1\n",
    "    except:\n",
    "        pass\n",
    "\n",
    "print(scores)\n",
    "for m, s in scores.items():\n",
    "    print(f\"{m} acc:\\t{scores[m]/len(datas)*100:.2f}%\")"
   ]
  },
  {
   "cell_type": "code",
   "execution_count": 25,
   "id": "c8ae444a",
   "metadata": {},
   "outputs": [],
   "source": [
    "file_path = \"./shuffled_dataset.jsonl\"\n",
    "\n",
    "shuffled_data = []\n",
    "with open(file_path, 'r', encoding='utf-8') as f:\n",
    "    for line_number, line in enumerate(f, 1):\n",
    "        line = line.strip()\n",
    "        if not line:\n",
    "            print(f\"Skipping empty line at line {line_number}\")\n",
    "            continue\n",
    "        try:\n",
    "            shuffled_data.append(json.loads(line))\n",
    "        except json.JSONDecodeError as e:\n",
    "            print(f\"Error parsing JSON at line {line_number}: {str(e)}\")\n",
    "            continue\n"
   ]
  },
  {
   "cell_type": "code",
   "execution_count": 26,
   "id": "2ba38755",
   "metadata": {},
   "outputs": [
    {
     "ename": "KeyError",
     "evalue": "'llama14b'",
     "output_type": "error",
     "traceback": [
      "\u001b[0;31m---------------------------------------------------------------------------\u001b[0m",
      "\u001b[0;31mKeyError\u001b[0m                                  Traceback (most recent call last)",
      "Cell \u001b[0;32mIn[26], line 18\u001b[0m\n\u001b[1;32m     16\u001b[0m \u001b[38;5;28;01mfor\u001b[39;00m m \u001b[38;5;129;01min\u001b[39;00m models:\n\u001b[1;32m     17\u001b[0m     y_true \u001b[38;5;241m=\u001b[39m [entry[\u001b[38;5;124m\"\u001b[39m\u001b[38;5;124manswer\u001b[39m\u001b[38;5;124m\"\u001b[39m] \u001b[38;5;28;01mfor\u001b[39;00m entry \u001b[38;5;129;01min\u001b[39;00m cleaned]\n\u001b[0;32m---> 18\u001b[0m     y_pred \u001b[38;5;241m=\u001b[39m [entry[m][\u001b[38;5;124m\"\u001b[39m\u001b[38;5;124manswer\u001b[39m\u001b[38;5;124m\"\u001b[39m] \u001b[38;5;28;01mfor\u001b[39;00m entry \u001b[38;5;129;01min\u001b[39;00m cleaned]\n\u001b[1;32m     19\u001b[0m     acc \u001b[38;5;241m=\u001b[39m custom_accuracy_score(y_true, y_pred)\n\u001b[1;32m     20\u001b[0m     \u001b[38;5;28mprint\u001b[39m(\u001b[38;5;124mf\u001b[39m\u001b[38;5;124m\"\u001b[39m\u001b[38;5;132;01m{\u001b[39;00mm\u001b[38;5;132;01m}\u001b[39;00m\u001b[38;5;124m acc:\u001b[39m\u001b[38;5;130;01m\\t\u001b[39;00m\u001b[38;5;132;01m{\u001b[39;00macc\u001b[38;5;250m \u001b[39m\u001b[38;5;241m*\u001b[39m\u001b[38;5;250m \u001b[39m\u001b[38;5;241m100\u001b[39m\u001b[38;5;132;01m:\u001b[39;00m\u001b[38;5;124m.2f\u001b[39m\u001b[38;5;132;01m}\u001b[39;00m\u001b[38;5;124m%\u001b[39m\u001b[38;5;124m\"\u001b[39m)\n",
      "Cell \u001b[0;32mIn[26], line 18\u001b[0m, in \u001b[0;36m<listcomp>\u001b[0;34m(.0)\u001b[0m\n\u001b[1;32m     16\u001b[0m \u001b[38;5;28;01mfor\u001b[39;00m m \u001b[38;5;129;01min\u001b[39;00m models:\n\u001b[1;32m     17\u001b[0m     y_true \u001b[38;5;241m=\u001b[39m [entry[\u001b[38;5;124m\"\u001b[39m\u001b[38;5;124manswer\u001b[39m\u001b[38;5;124m\"\u001b[39m] \u001b[38;5;28;01mfor\u001b[39;00m entry \u001b[38;5;129;01min\u001b[39;00m cleaned]\n\u001b[0;32m---> 18\u001b[0m     y_pred \u001b[38;5;241m=\u001b[39m [\u001b[43mentry\u001b[49m\u001b[43m[\u001b[49m\u001b[43mm\u001b[49m\u001b[43m]\u001b[49m[\u001b[38;5;124m\"\u001b[39m\u001b[38;5;124manswer\u001b[39m\u001b[38;5;124m\"\u001b[39m] \u001b[38;5;28;01mfor\u001b[39;00m entry \u001b[38;5;129;01min\u001b[39;00m cleaned]\n\u001b[1;32m     19\u001b[0m     acc \u001b[38;5;241m=\u001b[39m custom_accuracy_score(y_true, y_pred)\n\u001b[1;32m     20\u001b[0m     \u001b[38;5;28mprint\u001b[39m(\u001b[38;5;124mf\u001b[39m\u001b[38;5;124m\"\u001b[39m\u001b[38;5;132;01m{\u001b[39;00mm\u001b[38;5;132;01m}\u001b[39;00m\u001b[38;5;124m acc:\u001b[39m\u001b[38;5;130;01m\\t\u001b[39;00m\u001b[38;5;132;01m{\u001b[39;00macc\u001b[38;5;250m \u001b[39m\u001b[38;5;241m*\u001b[39m\u001b[38;5;250m \u001b[39m\u001b[38;5;241m100\u001b[39m\u001b[38;5;132;01m:\u001b[39;00m\u001b[38;5;124m.2f\u001b[39m\u001b[38;5;132;01m}\u001b[39;00m\u001b[38;5;124m%\u001b[39m\u001b[38;5;124m\"\u001b[39m)\n",
      "\u001b[0;31mKeyError\u001b[0m: 'llama14b'"
     ]
    }
   ],
   "source": [
    "def custom_accuracy_score(y_true, y_pred):\n",
    "    \"\"\"\n",
    "    Custom accuracy function that considers predictions correct if they contain the same characters,\n",
    "    regardless of their order.\n",
    "\n",
    "    Args:\n",
    "        y_true (list): List of true labels.\n",
    "        y_pred (list): List of predicted labels.\n",
    "\n",
    "    Returns:\n",
    "        float: Custom accuracy score.\n",
    "    \"\"\"\n",
    "    correct = sum(sorted(true) == sorted(pred) for true, pred in zip(y_true, y_pred))\n",
    "    return correct / len(y_true)\n",
    "\n",
    "for m in models:\n",
    "    y_true = [entry[\"answer\"] for entry in cleaned]\n",
    "    y_pred = [entry[m][\"answer\"] for entry in cleaned]\n",
    "    acc = custom_accuracy_score(y_true, y_pred)\n",
    "    print(f\"{m} acc:\\t{acc * 100:.2f}%\")"
   ]
  },
  {
   "cell_type": "code",
   "execution_count": null,
   "id": "af7ccdfd",
   "metadata": {},
   "outputs": [
    {
     "data": {
      "text/plain": [
       "{'baichuan13b': 7910}"
      ]
     },
     "execution_count": 249,
     "metadata": {},
     "output_type": "execute_result"
    }
   ],
   "source": [
    "scores"
   ]
  },
  {
   "cell_type": "code",
   "execution_count": null,
   "id": "b6d38fe4-e9d0-4a8c-beb9-096287f847b8",
   "metadata": {},
   "outputs": [
    {
     "name": "stdout",
     "output_type": "stream",
     "text": [
      "----domain: safety_roduction-----\n"
     ]
    },
    {
     "ename": "ZeroDivisionError",
     "evalue": "division by zero",
     "output_type": "error",
     "traceback": [
      "\u001b[0;31m---------------------------------------------------------------------------\u001b[0m",
      "\u001b[0;31mZeroDivisionError\u001b[0m                         Traceback (most recent call last)",
      "Cell \u001b[0;32mIn[250], line 12\u001b[0m\n\u001b[1;32m     10\u001b[0m                 scores[m] \u001b[38;5;241m+\u001b[39m\u001b[38;5;241m=\u001b[39m \u001b[38;5;241m1\u001b[39m\n\u001b[1;32m     11\u001b[0m \u001b[38;5;28;01mfor\u001b[39;00m m, s \u001b[38;5;129;01min\u001b[39;00m scores\u001b[38;5;241m.\u001b[39mitems():\n\u001b[0;32m---> 12\u001b[0m     \u001b[38;5;28mprint\u001b[39m(\u001b[38;5;124mf\u001b[39m\u001b[38;5;124m\"\u001b[39m\u001b[38;5;132;01m{\u001b[39;00mm\u001b[38;5;132;01m}\u001b[39;00m\u001b[38;5;124m acc:\u001b[39m\u001b[38;5;130;01m\\t\u001b[39;00m\u001b[38;5;132;01m{\u001b[39;00mscores[m]\u001b[38;5;241m/\u001b[39mtotal\u001b[38;5;241m*\u001b[39m\u001b[38;5;241m100\u001b[39m\u001b[38;5;132;01m:\u001b[39;00m\u001b[38;5;124m.2f\u001b[39m\u001b[38;5;132;01m}\u001b[39;00m\u001b[38;5;124m%\u001b[39m\u001b[38;5;124m\"\u001b[39m)\u001b[38;5;66;03m#right: {scores[m]} total: {total}\")\u001b[39;00m\n",
      "\u001b[0;31mZeroDivisionError\u001b[0m: division by zero"
     ]
    }
   ],
   "source": [
    "for t, _ in tiku_files.items():\n",
    "    print(f\"----domain: {t}-----\")\n",
    "    scores = {m:0 for m in models}\n",
    "    total = 0\n",
    "    for r in cleaned:\n",
    "        if r['domain'] == t:\n",
    "            total += 1\n",
    "            for m in models:\n",
    "                if r[m][\"answer\"] == r[\"answer\"]:\n",
    "                    scores[m] += 1\n",
    "    for m, s in scores.items():\n",
    "        print(f\"{m} acc:\\t{scores[m]/total*100:.2f}%\")#right: {scores[m]} total: {total}\")"
   ]
  },
  {
   "cell_type": "code",
   "execution_count": null,
   "id": "a7ad7b0b-5465-4c43-87a2-02b32834a8e9",
   "metadata": {},
   "outputs": [],
   "source": []
  }
 ],
 "metadata": {
  "kernelspec": {
   "display_name": "base",
   "language": "python",
   "name": "python3"
  },
  "language_info": {
   "codemirror_mode": {
    "name": "ipython",
    "version": 3
   },
   "file_extension": ".py",
   "mimetype": "text/x-python",
   "name": "python",
   "nbconvert_exporter": "python",
   "pygments_lexer": "ipython3",
   "version": "3.8.10"
  }
 },
 "nbformat": 4,
 "nbformat_minor": 5
}
